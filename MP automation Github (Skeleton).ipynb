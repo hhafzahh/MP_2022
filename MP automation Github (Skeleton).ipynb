{
 "cells": [
  {
   "cell_type": "markdown",
   "id": "7ce95243",
   "metadata": {},
   "source": [
    "# <center> Loading data from mongoDB <center> #"
   ]
  },
  {
   "cell_type": "code",
   "execution_count": null,
   "id": "c3a82765",
   "metadata": {},
   "outputs": [],
   "source": [
    "import certifi\n",
    "import pymongo\n",
    "from pymongo import MongoClient\n",
    "\n",
    "client = MongoClient(\"yourString\", tlsCAFile=certifi.where())\n",
    "# Database Name\n",
    "db = client[\"Major-proj\"]\n",
    " \n",
    "# Collection Name\n",
    "col = db[\"issues\"]\n",
    " \n",
    "x = col.find()\n",
    " \n",
    "for data in x:\n",
    "    print(data)"
   ]
  },
  {
   "cell_type": "code",
   "execution_count": null,
   "id": "59e72d24",
   "metadata": {},
   "outputs": [],
   "source": [
    "import pandas as pd\n",
    "import joblib\n",
    "import matplotlib.pyplot as plt\n",
    "import numpy as np"
   ]
  },
  {
   "cell_type": "code",
   "execution_count": null,
   "id": "0441029d",
   "metadata": {},
   "outputs": [],
   "source": [
    "#Present data as dataframe\n",
    "df = pd.DataFrame(list(col.find()))\n",
    "df"
   ]
  },
  {
   "cell_type": "markdown",
   "id": "d23f09e6",
   "metadata": {},
   "source": [
    "# <center> Data cleaning and formatting <center> #"
   ]
  },
  {
   "cell_type": "markdown",
   "id": "fdc94f28",
   "metadata": {},
   "source": [
    "<h2> Check if datetime values are valid "
   ]
  },
  {
   "cell_type": "code",
   "execution_count": null,
   "id": "a2af6568",
   "metadata": {},
   "outputs": [],
   "source": [
    "exceptionList = []\n",
    "for index, row in df.iterrows():  \n",
    "    try:\n",
    "        pd.to_datetime(row['occuranceDateTime']).strftime('%d/%m/%Y %H:%M')\n",
    "        #print(row['_id'], 'Date time is valid')\n",
    "    \n",
    "    except ValueError:\n",
    "        pass\n",
    "        exceptionList.append(row['_id'])\n",
    "        #print(exceptionList)\n",
    "        dateTime_check = row['_id'], 'Invalid datetime format.'\n",
    "        print(dateTime_check)\n",
    "\n",
    "if len(exceptionList) == 0:\n",
    "    dateTime_check = 'All Datetime is valid.'\n",
    "    print(dateTime_check)"
   ]
  },
  {
   "cell_type": "code",
   "execution_count": null,
   "id": "b6bcf5af",
   "metadata": {},
   "outputs": [],
   "source": [
    "#Remove rows that have invalid datetime\n",
    "for i in exceptionList:\n",
    "    df = df[df._id != i]\n",
    "df            "
   ]
  },
  {
   "cell_type": "markdown",
   "id": "42e42a07",
   "metadata": {},
   "source": [
    "<h2> Format occuranceDateTime and Business are into desirable format "
   ]
  },
  {
   "cell_type": "code",
   "execution_count": null,
   "id": "7f4b02f2",
   "metadata": {},
   "outputs": [],
   "source": [
    "#Split occuranceDateTime to OccuranceDate and OccuranceTime\n",
    "df[\"OccuranceDate\"] = pd.to_datetime(df[\"occuranceDateTime\"]).dt.strftime('%d/%b/%Y')\n",
    "df[\"OccuranceTime\"] = pd.to_datetime(df[\"occuranceDateTime\"]).dt.time\n",
    "\n",
    "#Split OccuranceDate into month and year and create a seperate column for OccuranceMonth and OccuranceYear\n",
    "df[\"OccuranceMonth\"] = df[\"OccuranceDate\"].str.split('/').str[1]\n",
    "df[\"OccuranceYear\"] = df[\"OccuranceDate\"].str.split('/').str[-1]\n",
    "\n",
    "#Split area and create a new column, named as 'Business Area (report) and Business Area\n",
    "df[['Business Area (report)','Business Area']] = df[\"area\"].str.split('-',expand=True)\n",
    "print(df)"
   ]
  },
  {
   "cell_type": "markdown",
   "id": "25f09aaf",
   "metadata": {},
   "source": [
    "<h2> Data cleaning - handle missing values by replacing it with NaN"
   ]
  },
  {
   "cell_type": "code",
   "execution_count": null,
   "id": "77a96ba5",
   "metadata": {},
   "outputs": [],
   "source": [
    "#Working - Handle missing values: Fill all blanks and 'N.A.' to NaN\n",
    "df = df.replace(['','N.A.', 'NA','na','n.a.', 'nil', 'NIL', 'Nil', 'NIl', 'niL'], np.NaN)\n",
    "df"
   ]
  },
  {
   "cell_type": "markdown",
   "id": "63c2c8c9",
   "metadata": {},
   "source": [
    "<h2> Data cleaning - handling duplicated data by removing the record "
   ]
  },
  {
   "cell_type": "code",
   "execution_count": null,
   "id": "c487bd0d",
   "metadata": {},
   "outputs": [],
   "source": [
    "#Working - Remove dups - remove those rows that are duplicated except the '_id' column\n",
    "duplicateRowsDF = df[df.duplicated(['occuranceDateTime', 'requestorName', 'description', 'area', 'team', 'status', 'remarks', 'OccuranceDate', 'OccuranceMonth', 'OccuranceYear', 'Business Area (report)', 'Business Area'])]\n",
    "\n",
    "index = duplicateRowsDF.index\n",
    "\n",
    "df = df.drop(index)\n",
    "df"
   ]
  },
  {
   "cell_type": "markdown",
   "id": "0d30b104",
   "metadata": {},
   "source": [
    "<h2> Data cleaning - ensure that business area aligns with assigned team "
   ]
  },
  {
   "cell_type": "code",
   "execution_count": null,
   "id": "db5e4ee2",
   "metadata": {},
   "outputs": [],
   "source": [
    "#Compare the \"Business Area\" and \"team\" values\n",
    "teamField_checker_list = []\n",
    "for index, row in df.iterrows():\n",
    "    teamSplitted = row['team'].split()[0].strip()\n",
    "    \n",
    "    if (teamSplitted != row['Business Area (report)'].strip()):\n",
    "        teamField_checker = row['_id']\n",
    "        teamField_checker_list.append(row['_id'])\n",
    "        formatText = 'Team field check results:'\n",
    "        teamField_result = formatText + str(teamField_checker_list)\n",
    "        #print('Need to fix Business Area/Assigned Team:', teamField_checker_list)\n",
    "    \n",
    "if len(teamField_checker_list) == 0:\n",
    "    teamField_result = 'All team fields are correct.'\n",
    "    \n",
    "print(teamField_result)"
   ]
  },
  {
   "cell_type": "markdown",
   "id": "dc959313",
   "metadata": {},
   "source": [
    "<h2> Data cleaning - checking for inconsistencies (typo) using spellchecker"
   ]
  },
  {
   "cell_type": "code",
   "execution_count": null,
   "id": "96af454d",
   "metadata": {},
   "outputs": [],
   "source": [
    "from spellchecker import SpellChecker\n",
    "from textblob import Word\n",
    "from textblob import TextBlob\n",
    "import re\n",
    "\n",
    "spell = SpellChecker()\n",
    "description = df[\"description\"]\n",
    "\n",
    "for words in description:\n",
    "    descriptionTB = TextBlob(words)\n",
    "    splittedWords = words.split()\n",
    "    #print(splittedWords)\n",
    "\n",
    "    #Remove punctuation signs\n",
    "    #by doing 'for word in words' helps to for loop for the row is it loop at (line 8), you get 4 rows of ouput instead of 16\n",
    "    cleanedWords = [word.lower() for word in splittedWords]\n",
    "    cleanedWords = [re.sub(r'[^A-Za-z0-9]+', '', word) for word in splittedWords]\n",
    "    #print(cleanedWords)\n",
    "    \n",
    "    #find those words that may be misspelled\n",
    "    misspelled = list(spell.unknown(cleanedWords))\n",
    "    #print(\"Possible list of misspelled words in the original text:\\n\",misspelled)\n",
    "    \n",
    "    #print(' '.join(misspelled))\n",
    "    #missspelled_row = ' '.join(misspelled)\n",
    "    #print(descriptionTB)\n",
    "    for word in misspelled:\n",
    "        correctWord = spell.correction(word)\n",
    "        joined = [correctWord.join(correctWord)]\n",
    "    descriptionTBNew = ''.join(descriptionTB.correct())\n",
    "    #print(descriptionTBNew, \"descriptionTBNew\")\n",
    "    \n",
    "    #print(len(misspelled))\n",
    "    if len(misspelled) > 0:\n",
    "        for index, row in df.iterrows():\n",
    "            if row['description'] == descriptionTB:\n",
    "                #print(index)\n",
    "                df.loc[index, \"description\"] = descriptionTBNew\n",
    "\n",
    "df"
   ]
  },
  {
   "cell_type": "markdown",
   "id": "d22fd800",
   "metadata": {},
   "source": [
    "# <center> Sending out check report through email <center> #"
   ]
  },
  {
   "cell_type": "code",
   "execution_count": null,
   "id": "60144bb2",
   "metadata": {},
   "outputs": [],
   "source": [
    "from flask import Flask\n",
    "from flask_mail import Mail, Message\n",
    "from email.mime.text import MIMEText\n",
    "\n",
    "app = Flask(__name__)\n",
    "\n",
    "mail_settings = {\n",
    "\"MAIL_SERVER\": \"smtp.gmail.com\",\n",
    "\"MAIL_USE_TLS\": False,\n",
    "\"MAIL_USE_SSL\": True,\n",
    "\"MAIL_PORT\": 465,\n",
    "\"MAIL_USERNAME\": \"senderEmail\",\n",
    "\"MAIL_PASSWORD\": \"senderEmailPW\"\n",
    "}\n",
    "\n",
    "app.config.update(mail_settings)\n",
    "mail = Mail(app)\n",
    "\n",
    "receiver_list = ['receiverEmail']\n",
    "\n",
    "with app.app_context():\n",
    "    msg = Message(sender=app.config.get(\"MAIL_USERNAME\"), recipients=receiver_list)\n",
    "    msg.subject = \"Automation report\"\n",
    "    b = str(dateTime_check)\n",
    "    c = teamField_result\n",
    "    result = b + '\\n' + c\n",
    "    msg.html = result\n",
    "    mail.send(msg)\n",
    "    "
   ]
  },
  {
   "cell_type": "markdown",
   "id": "c9531e98",
   "metadata": {},
   "source": [
    "# <center> Writing cleaned and formatted dataframe to csv file <center> #"
   ]
  },
  {
   "cell_type": "code",
   "execution_count": null,
   "id": "cf540092",
   "metadata": {},
   "outputs": [],
   "source": [
    "df"
   ]
  },
  {
   "cell_type": "code",
   "execution_count": null,
   "id": "5b42bfaf",
   "metadata": {},
   "outputs": [],
   "source": [
    "df.to_csv('data/MP_dataset.csv', index = False, na_rep=np.NaN)"
   ]
  }
 ],
 "metadata": {
  "kernelspec": {
   "display_name": "Python 3 (ipykernel)",
   "language": "python",
   "name": "python3"
  },
  "language_info": {
   "codemirror_mode": {
    "name": "ipython",
    "version": 3
   },
   "file_extension": ".py",
   "mimetype": "text/x-python",
   "name": "python",
   "nbconvert_exporter": "python",
   "pygments_lexer": "ipython3",
   "version": "3.8.13"
  }
 },
 "nbformat": 4,
 "nbformat_minor": 5
}
